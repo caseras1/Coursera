{
 "cells": [
  {
   "cell_type": "markdown",
   "id": "2b6f2fff-09fa-4b16-9d76-42fe9e0f1f95",
   "metadata": {},
   "source": [
    "!pip install yfinance\n",
    "!pip install bs4\n",
    "!pip install nbformat\n",
    "!pip install --upgrade plotly"
   ]
  },
  {
   "cell_type": "code",
   "execution_count": 326,
   "id": "8f317237-9933-4dd2-9b65-dd94bfa085bf",
   "metadata": {},
   "outputs": [],
   "source": [
    "import yfinance as yf\n",
    "import pandas as pd\n",
    "import requests\n",
    "from bs4 import BeautifulSoup\n",
    "from decimal import Decimal\n",
    "import re\n",
    "import plotly.graph_objects as go\n",
    "from plotly.subplots import make_subplots"
   ]
  },
  {
   "cell_type": "code",
   "execution_count": 330,
   "id": "65f8999c-d5e3-4064-b7b6-2b24e821064d",
   "metadata": {},
   "outputs": [],
   "source": [
    "import warnings\n",
    "# Ignore all warnings\n",
    "warnings.filterwarnings(\"ignore\", category=FutureWarning)"
   ]
  },
  {
   "cell_type": "code",
   "execution_count": 332,
   "id": "0bc52735-380d-42e5-b049-643dd3b1c525",
   "metadata": {},
   "outputs": [],
   "source": [
    "def make_graph(stock_data, revenue, stock):\n",
    "    fig = make_subplots(rows=2, cols=1, shared_xaxes=True, subplot_titles=(\"Historical Share Price\", \"Historical Revenue\"), vertical_spacing = .3)\n",
    "    fig.add_trace(go.Scatter(x=pd.to_datetime(revenue_data_specific.Date, infer_datetime_format=True), y=revenue_data_specific.Revenue.astype(\"float\"), name=\"Revenue\"), row=2, col=1)\n",
    "    fig.update_xaxes(title_text=\"Date\", row=1, col=1)\n",
    "    fig.update_xaxes(title_text=\"Date\", row=2, col=1)\n",
    "    fig.update_yaxes(title_text=\"Price ($US)\", row=1, col=1)\n",
    "    fig.update_yaxes(title_text=\"Revenue ($US Millions)\", row=2, col=1)\n",
    "    fig.update_layout(showlegend=False,\n",
    "    height=900,\n",
    "    title=stock,\n",
    "    xaxis_rangeslider_visible=True)\n",
    "    fig.show()\n",
    "    from IPython.display import display, HTML\n",
    "    fig_html = fig.to_html()\n",
    "    display(HTML(fig_html))"
   ]
  },
  {
   "cell_type": "code",
   "execution_count": 371,
   "id": "8e79075f-e67e-4a2f-b4d3-bd67ddd09f9d",
   "metadata": {
    "scrolled": true
   },
   "outputs": [
    {
     "name": "stdout",
     "output_type": "stream",
     "text": [
      "                       Date      Open      High       Low     Close  \\\n",
      "0 2010-06-29 00:00:00-04:00  1.266667  1.666667  1.169333  1.592667   \n",
      "1 2010-06-30 00:00:00-04:00  1.719333  2.028000  1.553333  1.588667   \n",
      "2 2010-07-01 00:00:00-04:00  1.666667  1.728000  1.351333  1.464000   \n",
      "3 2010-07-02 00:00:00-04:00  1.533333  1.540000  1.247333  1.280000   \n",
      "4 2010-07-06 00:00:00-04:00  1.333333  1.333333  1.055333  1.074000   \n",
      "\n",
      "      Volume  Dividends  Stock Splits  \n",
      "0  281494500        0.0           0.0  \n",
      "1  257806500        0.0           0.0  \n",
      "2  123282000        0.0           0.0  \n",
      "3   77097000        0.0           0.0  \n",
      "4  103003500        0.0           0.0  \n"
     ]
    }
   ],
   "source": [
    "tesla = yf.Ticker(\"TSLA\")\n",
    "tesla_data = tesla.history(period=\"max\")\n",
    "tesla_data.reset_index(inplace=True)\n",
    "print(tesla_data.head())\n"
   ]
  },
  {
   "cell_type": "code",
   "execution_count": 369,
   "id": "230a147e-48a7-44c7-bccf-9f2a087a6569",
   "metadata": {},
   "outputs": [
    {
     "name": "stdout",
     "output_type": "stream",
     "text": [
      "          Date      Revenue\n",
      "48  2010-09-30  31000000000\n",
      "49  2010-06-30  28000000000\n",
      "50  2010-03-31  21000000000\n",
      "51  2009-09-30  46000000000\n",
      "52  2009-06-30  27000000000\n"
     ]
    }
   ],
   "source": [
    "# Get HTML\n",
    "url = \"https://cf-courses-data.s3.us.cloud-object-storage.appdomain.cloud/IBMDeveloperSkillsNetwork-PY0220EN-SkillsNetwork/labs/project/revenue.htm\"\n",
    "html_data = requests.get(url).text\n",
    "\n",
    "# Parse HTML\n",
    "soup = BeautifulSoup(html_data, \"html.parser\")\n",
    "\n",
    "# Find correct table\n",
    "tables = soup.find_all(\"table\")\n",
    "for table in tables:\n",
    "    if \"Tesla Quarterly Revenue\" in table.text:\n",
    "        target_table = table\n",
    "        break\n",
    "\n",
    "# Extract values\n",
    "tesla_revenue = pd.DataFrame(columns=[\"Date\", \"Revenue\"])\n",
    "for row in target_table.tbody.find_all(\"tr\"):\n",
    "    cols = row.find_all(\"td\")\n",
    "    if len(cols) == 2:\n",
    "        date = cols[0].text.strip()\n",
    "        raw_revenue = cols[1].text.strip()\n",
    "\n",
    "        # Use regex to extract numbers (keep decimals, commas)\n",
    "        match = re.search(r'[\\d\\.,]+', raw_revenue)\n",
    "        if match:\n",
    "            number_str = match.group(0).replace(\",\", \"\")\n",
    "            try:\n",
    "                revenue = Decimal(number_str) * 1_000_000_000  # Multiply to convert billions\n",
    "                tesla_revenue = pd.concat([\n",
    "                    tesla_revenue,\n",
    "                    pd.DataFrame({\"Date\": [date], \"Revenue\": [revenue]})\n",
    "                ], ignore_index=True)\n",
    "            except:\n",
    "                continue\n",
    "\n",
    "# Show result\n",
    "print(tesla_revenue.tail())\n"
   ]
  },
  {
   "cell_type": "code",
   "execution_count": 373,
   "id": "c6d0f561-ace8-4d0d-ba9b-9fd0803c5c88",
   "metadata": {},
   "outputs": [
    {
     "name": "stdout",
     "output_type": "stream",
     "text": [
      "                       Date      Open      High       Low     Close    Volume  \\\n",
      "0 2002-02-13 00:00:00-05:00  1.620129  1.693350  1.603296  1.691667  76216000   \n",
      "1 2002-02-14 00:00:00-05:00  1.712707  1.716074  1.670626  1.683250  11021600   \n",
      "2 2002-02-15 00:00:00-05:00  1.683250  1.687458  1.658002  1.674834   8389600   \n",
      "3 2002-02-19 00:00:00-05:00  1.666418  1.666418  1.578047  1.607504   7410400   \n",
      "4 2002-02-20 00:00:00-05:00  1.615921  1.662210  1.603296  1.662210   6892800   \n",
      "\n",
      "   Dividends  Stock Splits  \n",
      "0        0.0           0.0  \n",
      "1        0.0           0.0  \n",
      "2        0.0           0.0  \n",
      "3        0.0           0.0  \n",
      "4        0.0           0.0  \n"
     ]
    }
   ],
   "source": [
    "gme = yf.Ticker(\"GME\")\n",
    "gme_data = gme.history(period=\"max\")\n",
    "gme_data.reset_index(inplace=True)\n",
    "print(gme_data.head())"
   ]
  },
  {
   "cell_type": "code",
   "execution_count": 314,
   "id": "19288ecd-a571-432b-8f6b-e8b91d51a873",
   "metadata": {},
   "outputs": [],
   "source": [
    "import warnings\n",
    "from bs4 import XMLParsedAsHTMLWarning\n",
    "\n",
    "warnings.filterwarnings(\"ignore\", category=XMLParsedAsHTMLWarning)\n"
   ]
  },
  {
   "cell_type": "code",
   "execution_count": 375,
   "id": "38ae708c-f46a-47de-b710-dd08a5dcceab",
   "metadata": {
    "scrolled": true
   },
   "outputs": [
    {
     "name": "stdout",
     "output_type": "stream",
     "text": [
      "          Date      Revenue\n",
      "48  2010-09-30  31000000000\n",
      "49  2010-06-30  28000000000\n",
      "50  2010-03-31  21000000000\n",
      "51  2009-09-30  46000000000\n",
      "52  2009-06-30  27000000000\n"
     ]
    }
   ],
   "source": [
    "# Get HTML\n",
    "url = \"https://cf-courses-data.s3.us.cloud-object-storage.appdomain.cloud/IBMDeveloperSkillsNetwork-PY0220EN-SkillsNetwork/labs/project/gme_revenue.htm\"\n",
    "html_data = requests.get(url).text\n",
    "\n",
    "# Parse HTML\n",
    "soup = BeautifulSoup(html_data, \"html.parser\")\n",
    "\n",
    "# Find correct table\n",
    "tables = soup.find_all(\"table\")\n",
    "for table in tables:\n",
    "    if \"GameStop Quarterly Revenue\" in table.text:\n",
    "        target_table = table\n",
    "        break\n",
    "\n",
    "# Extract values\n",
    "gme_revenue = pd.DataFrame(columns=[\"Date\", \"Revenue\"])\n",
    "for row in target_table.tbody.find_all(\"tr\"):\n",
    "    cols = row.find_all(\"td\")\n",
    "    if len(cols) == 2:\n",
    "        date = cols[0].text.strip()\n",
    "        raw_revenue = cols[1].text.strip()\n",
    "\n",
    "        # Use regex to extract numbers (keep decimals, commas)\n",
    "        match = re.search(r'[\\d\\.,]+', raw_revenue)\n",
    "        if match:\n",
    "            number_str = match.group(0).replace(\",\", \"\")\n",
    "            try:\n",
    "                revenue = Decimal(number_str) * 1_000_000_000  # Multiply to convert billions\n",
    "                gme_revenue = pd.concat([\n",
    "                    gme_revenue,\n",
    "                    pd.DataFrame({\"Date\": [date], \"Revenue\": [revenue]})\n",
    "                ], ignore_index=True)\n",
    "            except:\n",
    "                continue\n",
    "\n",
    "# Show result\n",
    "print(gme_revenue.tail())\n"
   ]
  },
  {
   "cell_type": "code",
   "execution_count": 316,
   "id": "767f646c-d8aa-47ae-88e4-90703e72f72b",
   "metadata": {},
   "outputs": [],
   "source": [
    "import plotly.graph_objects as go\n",
    "\n",
    "def make_graph(stock_data, revenue_data, stock_name):\n",
    "    fig = go.Figure()\n",
    "\n",
    "    # Stock price\n",
    "    fig.add_trace(go.Scatter(\n",
    "        x=stock_data['Date'],\n",
    "        y=stock_data['Close'],\n",
    "        name=f\"{stock_name} Stock Price\"\n",
    "    ))\n",
    "\n",
    "    # Revenue\n",
    "    fig.add_trace(go.Scatter(\n",
    "        x=revenue_data['Date'],\n",
    "        y=revenue_data['Revenue'],\n",
    "        name=f\"{stock_name} Revenue\",\n",
    "        yaxis=\"y2\"\n",
    "    ))\n",
    "\n",
    "    fig.update_layout(\n",
    "        title=f\"{stock_name} Stock Price and Revenue (up to June 2021)\",\n",
    "        xaxis=dict(title=\"Date\", rangeslider=dict(visible=True)),\n",
    "        yaxis=dict(title=\"Stock Price\"),\n",
    "        yaxis2=dict(\n",
    "            title=\"Revenue\",\n",
    "            overlaying=\"y\",\n",
    "            side=\"right\"\n",
    "        )\n",
    "    )\n",
    "\n",
    "    fig.show()\n"
   ]
  },
  {
   "cell_type": "code",
   "execution_count": 339,
   "id": "3e56acd3-ee8b-4a6d-b37d-373717c5059d",
   "metadata": {},
   "outputs": [
    {
     "data": {
      "text/html": [
       "<iframe\n",
       "    scrolling=\"no\"\n",
       "    width=\"100%\"\n",
       "    height=\"545px\"\n",
       "    src=\"iframe_figures/figure_339.html\"\n",
       "    frameborder=\"0\"\n",
       "    allowfullscreen\n",
       "></iframe>\n"
      ]
     },
     "metadata": {},
     "output_type": "display_data"
    }
   ],
   "source": [
    "make_graph(tesla_data, tesla_revenue, 'Tesla')\n"
   ]
  },
  {
   "cell_type": "code",
   "execution_count": 337,
   "id": "7b54f014-0ce0-4d47-88cc-39cff63a7ebb",
   "metadata": {},
   "outputs": [
    {
     "data": {
      "text/html": [
       "<iframe\n",
       "    scrolling=\"no\"\n",
       "    width=\"100%\"\n",
       "    height=\"545px\"\n",
       "    src=\"iframe_figures/figure_337.html\"\n",
       "    frameborder=\"0\"\n",
       "    allowfullscreen\n",
       "></iframe>\n"
      ]
     },
     "metadata": {},
     "output_type": "display_data"
    }
   ],
   "source": [
    "make_graph(gme_data, gme_revenue, 'GameStop')\n"
   ]
  },
  {
   "cell_type": "code",
   "execution_count": 377,
   "id": "7d3e3465-6b81-44dc-8752-d35a79ecbea4",
   "metadata": {},
   "outputs": [
    {
     "data": {
      "text/plain": [
       "'C:\\\\Users\\\\erasc\\\\Learnings\\\\WebScraping\\\\StockData'"
      ]
     },
     "execution_count": 377,
     "metadata": {},
     "output_type": "execute_result"
    }
   ],
   "source": [
    "import os\n",
    "os.getcwd()\n"
   ]
  },
  {
   "cell_type": "code",
   "execution_count": null,
   "id": "9968456c-678d-4f6c-8dca-5e5ee24257a3",
   "metadata": {},
   "outputs": [],
   "source": []
  }
 ],
 "metadata": {
  "kernelspec": {
   "display_name": "Python [conda env:base] *",
   "language": "python",
   "name": "conda-base-py"
  },
  "language_info": {
   "codemirror_mode": {
    "name": "ipython",
    "version": 3
   },
   "file_extension": ".py",
   "mimetype": "text/x-python",
   "name": "python",
   "nbconvert_exporter": "python",
   "pygments_lexer": "ipython3",
   "version": "3.12.7"
  }
 },
 "nbformat": 4,
 "nbformat_minor": 5
}
