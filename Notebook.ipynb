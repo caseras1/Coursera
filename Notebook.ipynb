{
 "cells": [
  {
   "cell_type": "markdown",
   "id": "f90aef25-5953-4dda-8365-d277e3a93db2",
   "metadata": {},
   "source": [
    "# Final Project of the Data Science Course\n",
    "\n",
    "#### This is the Final project for course number one about the introduction of all the Data Science Languages, Tools, Libraries, and Basic Arithmetic operations\n",
    "\n",
    "### List of Data Science Languages\n",
    "* Python\n",
    "* R\n",
    "* SQL\n",
    "* Java\n",
    "* Julia \n",
    "* Scala\n",
    "* C/C++\n",
    "* Go\n",
    "* MATLAB\n",
    "* JS\n",
    "* PHP\n",
    "* Ruby\n",
    "\n",
    "## List of Data Science Libraries\n",
    "\n",
    "### Scientific Computing\n",
    "* Pandas\n",
    "* Numphy \n",
    "\n",
    "### Visualisation\n",
    "* Matplotlib\n",
    "* Seaborn\n",
    "* Plotly\n",
    "\n",
    "### Machine Learning and Deep Learning\n",
    "* Scikit-Learn\n",
    "* Keras\n",
    "* TensorFlow\n",
    "* Pytorch\n",
    "\n",
    "## Table of Data Science Tools\n",
    "\n",
    "| Tool Name       | Category                     | Description |\n",
    "|----------------|-----------------------------|-------------|\n",
    "| Jupyter Notebook | Interactive Development     | Open-source web-based tool for writing and executing code |\n",
    "| RStudio         | Integrated Development (IDE) | IDE for R programming language |\n",
    "| Apache Spark    | Big Data Processing         | Fast and general-purpose cluster computing system |\n",
    "| TensorFlow      | Machine Learning             | Open-source ML framework developed by Google |\n",
    "| Tableau         | Data Visualization           | Business intelligence tool for visual analytics |\n",
    "\n",
    "\n",
    "## Introduction of Arithmetic Expressions\n",
    "### Arithmetic expressions perform basic mathematical operations like:\n",
    "- Addition (`+`)\n",
    "- Subtraction (`-`)\n",
    "- Multiplication (`*`)\n",
    "- Division (`/`)\n",
    "- Exponentiation (`**`)\n",
    "- Modulus (`%`)\n",
    "\n",
    "Below, I will demonstrate some arithmetic calculations.\n",
    "\n",
    "\n",
    "\n",
    "\n",
    "\n"
   ]
  },
  {
   "cell_type": "markdown",
   "id": "de51077b-9f18-4e42-a4b9-02a223bc30f3",
   "metadata": {},
   "source": [
    "#### Code cell to multiply and add numbers"
   ]
  },
  {
   "cell_type": "code",
   "execution_count": 7,
   "id": "8ab23627-667e-4216-ad7b-8da7de67ac1d",
   "metadata": {},
   "outputs": [
    {
     "name": "stdout",
     "output_type": "stream",
     "text": [
      "Multiplication: 5 * 3 = 15\n",
      "Addition: 5 + 3 = 8\n"
     ]
    }
   ],
   "source": [
    "a = 5\n",
    "b = 3\n",
    "\n",
    "multiplication = a * b\n",
    "addition = a + b\n",
    "\n",
    "print(f\"Multiplication: {a} * {b} = {multiplication}\")\n",
    "print(f\"Addition: {a} + {b} = {addition}\")"
   ]
  },
  {
   "cell_type": "markdown",
   "id": "a830a99b-9d6e-4ccf-bdfa-4dc50a9e32b8",
   "metadata": {},
   "source": [
    "#### Code cell to convert minutes into hours\n"
   ]
  },
  {
   "cell_type": "code",
   "execution_count": 16,
   "id": "dfa6331a-a24c-49e5-a2cf-3db0e60837b7",
   "metadata": {},
   "outputs": [
    {
     "name": "stdout",
     "output_type": "stream",
     "text": [
      "100 minutes is equal to 1.6666666666666667 hours\n"
     ]
    }
   ],
   "source": [
    "minutes = 100\n",
    "hours = minutes / 60\n",
    "\n",
    "print(f\"{minutes} minutes is equal to {hours} hours\")"
   ]
  },
  {
   "cell_type": "markdown",
   "id": "24c819ce-ebfc-4493-ac0f-c52b781d53a3",
   "metadata": {},
   "source": [
    "### In this notebook, I used my skills to:\n",
    "\n",
    "* Listed out the Data Science Languages, Libraries, and Arithmetics operations.\n",
    "* Understand the basic Arthmetics operations.\n",
    "* Convert minutes into hours.\n",
    "* Format markdown cells to structure the Notebook.\n",
    "* Shared the complete project in Github"
   ]
  },
  {
   "cell_type": "markdown",
   "id": "d2be239d-5e2b-4cc6-8190-fd84dae46282",
   "metadata": {},
   "source": [
    "### Author: **Cas Eras**"
   ]
  }
 ],
 "metadata": {
  "kernelspec": {
   "display_name": "Python [conda env:base] *",
   "language": "python",
   "name": "conda-base-py"
  },
  "language_info": {
   "codemirror_mode": {
    "name": "ipython",
    "version": 3
   },
   "file_extension": ".py",
   "mimetype": "text/x-python",
   "name": "python",
   "nbconvert_exporter": "python",
   "pygments_lexer": "ipython3",
   "version": "3.12.7"
  }
 },
 "nbformat": 4,
 "nbformat_minor": 5
}
